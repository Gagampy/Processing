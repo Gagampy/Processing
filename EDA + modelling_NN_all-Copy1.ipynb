{
 "cells": [
  {
   "cell_type": "code",
   "execution_count": 1,
   "metadata": {},
   "outputs": [],
   "source": [
    "import numpy as np\n",
    "import pandas as pd\n",
    "from matplotlib import pyplot as plt\n",
    "import seaborn as sns\n",
    "import json\n",
    "\n",
    "from sklearn.model_selection import ShuffleSplit\n",
    "from sklearn.metrics import mean_absolute_error"
   ]
  },
  {
   "cell_type": "code",
   "execution_count": 2,
   "metadata": {},
   "outputs": [],
   "source": [
    "%matplotlib notebook\n",
    "plt.style.use('seaborn-whitegrid')"
   ]
  },
  {
   "cell_type": "code",
   "execution_count": 3,
   "metadata": {},
   "outputs": [],
   "source": [
    "def split_xy(df):\n",
    "    y = df.Spo_decr\n",
    "    x = df.drop('Spo_decr', axis=1)\n",
    "    return x, y"
   ]
  },
  {
   "cell_type": "code",
   "execution_count": 8,
   "metadata": {},
   "outputs": [],
   "source": [
    "def get_correlation_and_r2_patfold(gt, pred, mae):\n",
    "\n",
    "    gt = pd.DataFrame(np.array(gt).reshape(gt.shape[0], 1))\n",
    "    pred = pd.DataFrame(pred.reshape(pred.shape[0], 1))\n",
    "    ccorr = pd.concat([gt, pred], axis=1).corr()\n",
    "    r2 = r2_score(gt, pred)\n",
    "    return ccorr, r2\n",
    "\n",
    "\n",
    "def get_correlation_and_r2(gt, pred, mae):\n",
    "    \n",
    "    less_mae_idx = np.argmin(mae)\n",
    "    new_shape = (pred[less_mae_idx].shape[0], 1)\n",
    "    a = pd.DataFrame(pred[less_mae_idx].reshape(new_shape))\n",
    "    b = pd.DataFrame(np.array(gt[less_mae_idx]).reshape(new_shape))\n",
    "    ccorr = pd.concat([b, a], axis=1).corr()\n",
    "    r2 = r2_score(b, a)\n",
    "    return ccorr, r2\n",
    "\n",
    "def split_xy(df):\n",
    "    y = df.Spo_decr\n",
    "    x = df.drop('Spo_decr', axis=1)\n",
    "    return x, y"
   ]
  },
  {
   "cell_type": "code",
   "execution_count": 5,
   "metadata": {},
   "outputs": [],
   "source": [
    "x_all = pd.read_csv('x_all.csv')\n",
    "y_all_unscaled = pd.read_csv('y_all_unscaled.csv')\n",
    "pat_indexes = pd.read_csv('pat_indexes.csv')"
   ]
  },
  {
   "cell_type": "code",
   "execution_count": 6,
   "metadata": {},
   "outputs": [],
   "source": [
    "models_list = []"
   ]
  },
  {
   "cell_type": "code",
   "execution_count": 7,
   "metadata": {},
   "outputs": [],
   "source": [
    "from sklearn.ensemble import GradientBoostingRegressor\n",
    "from sklearn.svm import SVR\n",
    "\n",
    "from sklearn.model_selection import ShuffleSplit\n",
    "from sklearn.model_selection import GridSearchCV\n",
    "from sklearn.model_selection import KFold\n",
    "\n",
    "from sklearn.metrics import mean_absolute_error"
   ]
  },
  {
   "cell_type": "code",
   "execution_count": 13,
   "metadata": {},
   "outputs": [],
   "source": [
    "def train_model_testpat(model, X, y, pat_indexes, val_pat, splitter):\n",
    "    if val_pat not in range(1, 5):\n",
    "        raise ValueError\n",
    "    \n",
    "    xy_data = pd.concat([X, y], axis=1)\n",
    "    if val_pat == 1:\n",
    "        test_limit = int(pat_indexes.iloc[val_pat])\n",
    "        test_data = xy_data.iloc[:test_limit, :]\n",
    "        train_data = xy_data.iloc[test_limit:, :]\n",
    "    elif val_pat == 4:\n",
    "        test_limit = int(pat_indexes.iloc[val_pat-1])\n",
    "        test_data = xy_data.iloc[test_limit:, :]\n",
    "        train_data = xy_data.iloc[:test_limit, :]\n",
    "    else:\n",
    "        test_limit_low = int(pat_indexes.iloc[val_pat-1])\n",
    "        test_limit_up = int(pat_indexes.iloc[val_pat])\n",
    "        test_data = xy_data.iloc[test_limit_low:test_limit_up, :]\n",
    "        train_data = pd.concat([xy_data.iloc[:test_limit_low, :], xy_data.iloc[test_limit_up:, :]], axis=0)\n",
    "    \n",
    "    X_train, y_train = splitter(train_data)\n",
    "    X_test, y_test = splitter(test_data)\n",
    "    \n",
    "    model.fit(X_train, y_train)\n",
    "    y_preds = model.predict(X_test)\n",
    "    mae = mean_absolute_error(y_preds, y_test)\n",
    "    \n",
    "    return y_test, y_preds, mae"
   ]
  },
  {
   "cell_type": "code",
   "execution_count": 12,
   "metadata": {},
   "outputs": [],
   "source": [
    "svr = SVR(degree=3, gamma='scale')\n",
    "gb = GradientBoostingRegressor()"
   ]
  },
  {
   "cell_type": "code",
   "execution_count": 23,
   "metadata": {},
   "outputs": [],
   "source": [
    "s1 = train_model_testpat(svr, x_all, y_all_unscaled, pat_indexes, 1, split_xy)\n",
    "s2 = train_model_testpat(svr, x_all, y_all_unscaled, pat_indexes, 2, split_xy)\n",
    "s3 = train_model_testpat(svr, x_all, y_all_unscaled, pat_indexes, 3, split_xy)\n",
    "s4 = train_model_testpat(svr, x_all, y_all_unscaled, pat_indexes, 4, split_xy)\n",
    "\n",
    "g1 = train_model_testpat(gb, x_all, y_all_unscaled, pat_indexes, 1, split_xy)\n",
    "g2 = train_model_testpat(gb, x_all, y_all_unscaled, pat_indexes, 2, split_xy)\n",
    "g3 = train_model_testpat(gb, x_all, y_all_unscaled, pat_indexes, 3, split_xy)\n",
    "g4 = train_model_testpat(gb, x_all, y_all_unscaled, pat_indexes, 4, split_xy)\n"
   ]
  },
  {
   "cell_type": "code",
   "execution_count": 39,
   "metadata": {},
   "outputs": [],
   "source": [
    "models_dict = {}\n",
    "models_dict['svr'] = {}\n",
    "models_dict['svr']['1'] = {}\n",
    "models_dict['svr']['2'] = {}\n",
    "models_dict['svr']['3'] = {}\n",
    "models_dict['svr']['4'] = {}\n",
    "models_dict['svr']['1']['gt'] = list(s1[0])\n",
    "models_dict['svr']['1']['preds'] = list(s1[1])\n",
    "models_dict['svr']['1']['mae'] = s1[2]\n",
    "\n",
    "models_dict['svr']['2']['gt'] = list(s2[0])\n",
    "models_dict['svr']['2']['preds'] = list(s2[1])\n",
    "models_dict['svr']['2']['mae'] = s2[2]\n",
    "\n",
    "models_dict['svr']['3']['gt'] = list(s3[0])\n",
    "models_dict['svr']['3']['preds'] = list(s3[1])\n",
    "models_dict['svr']['3']['mae'] = s3[2]\n",
    "\n",
    "models_dict['svr']['4']['gt'] = list(s4[0])\n",
    "models_dict['svr']['4']['preds'] = list(s4[1])\n",
    "models_dict['svr']['4']['mae'] = s4[2]\n",
    "\n",
    "models_dict['gb'] = {}\n",
    "models_dict['gb']['1'] = {}\n",
    "models_dict['gb']['2'] = {}\n",
    "models_dict['gb']['3'] = {}\n",
    "models_dict['gb']['4'] = {}\n",
    "models_dict['gb']['1']['gt'] = list(g1[0])\n",
    "models_dict['gb']['1']['preds'] = list(g1[1])\n",
    "models_dict['gb']['1']['mae'] = g1[2]\n",
    "\n",
    "models_dict['gb']['2']['gt'] = list(g2[0])\n",
    "models_dict['gb']['2']['preds'] = list(g2[1])\n",
    "models_dict['gb']['2']['mae'] = g2[2]\n",
    "\n",
    "models_dict['gb']['3']['gt'] = list(g3[0])\n",
    "models_dict['gb']['3']['preds'] = list(g3[1])\n",
    "models_dict['gb']['3']['mae'] = g3[2]\n",
    "\n",
    "models_dict['gb']['4']['gt'] = list(g4[0])\n",
    "models_dict['gb']['4']['preds'] = list(g4[1])\n",
    "models_dict['gb']['4']['mae'] = g4[2]"
   ]
  },
  {
   "cell_type": "code",
   "execution_count": 40,
   "metadata": {},
   "outputs": [],
   "source": [
    "class NumpyEncoder(json.JSONEncoder):\n",
    "    \"\"\" Special json encoder for numpy types \"\"\"\n",
    "    def default(self, obj):\n",
    "        if isinstance(obj, (np.int_, np.intc, np.intp, np.int8,\n",
    "            np.int16, np.int32, np.int64, np.uint8,\n",
    "            np.uint16, np.uint32, np.uint64)):\n",
    "            return int(obj)\n",
    "        elif isinstance(obj, (np.float_, np.float16, np.float32, \n",
    "            np.float64)):\n",
    "            return float(obj)\n",
    "        elif isinstance(obj,(np.ndarray,)): #### This is the fix\n",
    "            return obj.tolist()\n",
    "        return json.JSONEncoder.default(self, obj)\n",
    "\n",
    "dumped = json.dumps(models_dict, cls=NumpyEncoder)"
   ]
  },
  {
   "cell_type": "code",
   "execution_count": 41,
   "metadata": {},
   "outputs": [],
   "source": [
    "with open('data_gbsvr.json', 'w') as fp:\n",
    "    json.dump(dumped, fp)\n",
    "with open('data_gbsvr.json', 'r') as fp: \n",
    "    f = json.load(fp)\n",
    "f = json.loads(f)\n"
   ]
  },
  {
   "cell_type": "code",
   "execution_count": 13,
   "metadata": {},
   "outputs": [],
   "source": [
    "def visul_shnn(gt, preds):\n",
    "    plt.figure()\n",
    "    plt.scatter(gt, preds)\n",
    "    plt.xlim([0, 50])\n",
    "    plt.ylim([0, 50])"
   ]
  }
 ],
 "metadata": {
  "kernelspec": {
   "display_name": "Python 3",
   "language": "python",
   "name": "python3"
  },
  "language_info": {
   "codemirror_mode": {
    "name": "ipython",
    "version": 3
   },
   "file_extension": ".py",
   "mimetype": "text/x-python",
   "name": "python",
   "nbconvert_exporter": "python",
   "pygments_lexer": "ipython3",
   "version": "3.6.8"
  }
 },
 "nbformat": 4,
 "nbformat_minor": 2
}
